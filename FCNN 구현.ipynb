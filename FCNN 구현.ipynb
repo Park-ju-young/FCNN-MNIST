{
 "cells": [
  {
   "cell_type": "code",
   "execution_count": 1,
   "metadata": {},
   "outputs": [],
   "source": [
    "import torch\n",
    "\n",
    "import torchvision \n",
    "\n",
    "from torchvision import datasets\n",
    "\n",
    "import torchvision.transforms as transforms\n",
    "\n",
    "import torch.nn as nn\n",
    "\n",
    "import torch.nn.functional as F\n",
    "\n",
    "import numpy as np\n",
    "\n",
    "import matplotlib.pyplot as plt\n"
   ]
  },
  {
   "cell_type": "code",
   "execution_count": 2,
   "metadata": {},
   "outputs": [],
   "source": [
    "device = torch.device('cuda' if torch.cuda.is_available() else 'cpu')"
   ]
  },
  {
   "cell_type": "markdown",
   "metadata": {},
   "source": [
    "#### Data"
   ]
  },
  {
   "cell_type": "code",
   "execution_count": 3,
   "metadata": {},
   "outputs": [],
   "source": [
    "train_data = datasets.MNIST('./data', train = True, transform = transforms.ToTensor(), download = True)\n",
    "# ToTensor를 적용해서 0 ~ 255 사이의 값을 0 ~ 1 사이의 값으로 변환시켜줌"
   ]
  },
  {
   "cell_type": "code",
   "execution_count": 4,
   "metadata": {},
   "outputs": [],
   "source": [
    "test_data = datasets.MNIST('./test', train = False, transform = transforms.ToTensor(), download = True)"
   ]
  },
  {
   "cell_type": "markdown",
   "metadata": {},
   "source": [
    "### Data Loader\n",
    "\n",
    "#### train_loader\n",
    "train_data의 이미지 개수는 60000개\n",
    "\n",
    "60000번을 한번에 처리하기 힘들기 때문에 batch size를 정해서 한번의 epoch에 batch size씩 처리\n",
    "\n",
    "batch size를 100으로 했기 때문에 train_loader의 크기는 600\n",
    "\n",
    "따라서 총 600번의 step을 할 예정\n",
    "\n",
    "\n",
    "#### test_loader\n",
    "test_data의 이미지 개수는 10000개\n",
    "\n",
    "마찬가지로 batch size를 100으로 해서 test_loader의 크기는 100\n",
    "\n"
   ]
  },
  {
   "cell_type": "code",
   "execution_count": 5,
   "metadata": {},
   "outputs": [],
   "source": [
    "train_loader = torch.utils.data.DataLoader(dataset = train_data, batch_size = 100, shuffle = True)"
   ]
  },
  {
   "cell_type": "code",
   "execution_count": 6,
   "metadata": {},
   "outputs": [],
   "source": [
    "test_loader = torch.utils.data.DataLoader(dataset = test_data, batch_size = 100, shuffle = True)"
   ]
  },
  {
   "cell_type": "code",
   "execution_count": 7,
   "metadata": {},
   "outputs": [
    {
     "data": {
      "image/png": "[encoded data removed]",
      "text/plain": [
       "<Figure size 432x288 with 1 Axes>"
      ]
     },
     "metadata": {
      "needs_background": "light"
     },
     "output_type": "display_data"
    }
   ],
   "source": [
    "# 이미지 출력하는 함수\n",
    "\n",
    "def imshow(img):\n",
    "    img = img.numpy()\n",
    "    plt.imshow(np.transpose(img, (1,2,0)))# width, height, channel 형태로 변경하는 것 \n",
    "    plt.show()\n",
    "    \n",
    "\n",
    "# pytorch는 이미지 데이터셋을 [Batch Size, channel, width, height] 순서대로 저장하기 때문에\n",
    "# matplotlib로 출력하기 위해서는 각 이미지를 [width, height, channel] 형태로 변경해 줄 필요가 있다.\n",
    "    \n",
    "    \n",
    "dataiter = iter(train_loader) # train_loader의 반복자 구하기\n",
    "images, labels = dataiter.next() # dataiter의 다음 요소 구하기\n",
    "\n",
    "\n",
    "imshow(torchvision.utils.make_grid(images))\n",
    "\n"
   ]
  },
  {
   "cell_type": "markdown",
   "metadata": {},
   "source": [
    "#### model 구현 & loss & optimizer\n"
   ]
  },
  {
   "cell_type": "markdown",
   "metadata": {},
   "source": [
    "1. 어떤 loss를 쓸지\n",
    "2. 어떤 optimizer를 쓸지\n",
    "3. 학습 횟수는 몇번으로 할 지\n",
    "4. learning rate는 몇으로 할 지\n",
    "5. 매 epoch, 매 iteration마다 back-propagation을 통해 모델의 파라미터를 업데이트"
   ]
  },
  {
   "cell_type": "code",
   "execution_count": 10,
   "metadata": {},
   "outputs": [],
   "source": [
    "input_size = 784  # 이미지가 28 * 28 = 784\n",
    "hidden_size = 784\n",
    "num_classes = 10\n",
    "learning_rate = 0.01\n",
    "\n",
    "layer1 = torch.nn.Linear(input_size, hidden_size, bias = True)\n",
    "layer2 = torch.nn.Linear(hidden_size,num_classes, bias = True)\n",
    "relu = torch.nn.ReLU()\n",
    "model = torch.nn.Sequential(layer1, relu, layer2).to(device) # layer1, relu, layer2 거침   \n",
    "\n",
    "loss = nn.CrossEntropyLoss()\n",
    "optimizer = torch.optim.Adam(model.parameters(), lr = learning_rate)\n",
    "    "
   ]
  },
  {
   "cell_type": "markdown",
   "metadata": {},
   "source": [
    "#### Train the model"
   ]
  },
  {
   "cell_type": "code",
   "execution_count": 11,
   "metadata": {},
   "outputs": [
    {
     "name": "stdout",
     "output_type": "stream",
     "text": [
      "epoch : 1 / 10 | step: 100 / 600 | loss: 0.1511\n",
      "epoch : 1 / 10 | step: 200 / 600 | loss: 0.1893\n",
      "epoch : 1 / 10 | step: 300 / 600 | loss: 0.2032\n",
      "epoch : 1 / 10 | step: 400 / 600 | loss: 0.1622\n",
      "epoch : 1 / 10 | step: 500 / 600 | loss: 0.1206\n",
      "epoch : 1 / 10 | step: 600 / 600 | loss: 0.1915\n",
      "epoch : 2 / 10 | step: 100 / 600 | loss: 0.1030\n",
      "epoch : 2 / 10 | step: 200 / 600 | loss: 0.1562\n",
      "epoch : 2 / 10 | step: 300 / 600 | loss: 0.1552\n",
      "epoch : 2 / 10 | step: 400 / 600 | loss: 0.1110\n",
      "epoch : 2 / 10 | step: 500 / 600 | loss: 0.1265\n",
      "epoch : 2 / 10 | step: 600 / 600 | loss: 0.0215\n",
      "epoch : 3 / 10 | step: 100 / 600 | loss: 0.0325\n",
      "epoch : 3 / 10 | step: 200 / 600 | loss: 0.0176\n",
      "epoch : 3 / 10 | step: 300 / 600 | loss: 0.1145\n",
      "epoch : 3 / 10 | step: 400 / 600 | loss: 0.0597\n",
      "epoch : 3 / 10 | step: 500 / 600 | loss: 0.0685\n",
      "epoch : 3 / 10 | step: 600 / 600 | loss: 0.1498\n",
      "epoch : 4 / 10 | step: 100 / 600 | loss: 0.0135\n",
      "epoch : 4 / 10 | step: 200 / 600 | loss: 0.0082\n",
      "epoch : 4 / 10 | step: 300 / 600 | loss: 0.1189\n",
      "epoch : 4 / 10 | step: 400 / 600 | loss: 0.1958\n",
      "epoch : 4 / 10 | step: 500 / 600 | loss: 0.0191\n",
      "epoch : 4 / 10 | step: 600 / 600 | loss: 0.1613\n",
      "epoch : 5 / 10 | step: 100 / 600 | loss: 0.1620\n",
      "epoch : 5 / 10 | step: 200 / 600 | loss: 0.0442\n",
      "epoch : 5 / 10 | step: 300 / 600 | loss: 0.0371\n",
      "epoch : 5 / 10 | step: 400 / 600 | loss: 0.1952\n",
      "epoch : 5 / 10 | step: 500 / 600 | loss: 0.1258\n",
      "epoch : 5 / 10 | step: 600 / 600 | loss: 0.0361\n",
      "epoch : 6 / 10 | step: 100 / 600 | loss: 0.0816\n",
      "epoch : 6 / 10 | step: 200 / 600 | loss: 0.1758\n",
      "epoch : 6 / 10 | step: 300 / 600 | loss: 0.0271\n",
      "epoch : 6 / 10 | step: 400 / 600 | loss: 0.1760\n",
      "epoch : 6 / 10 | step: 500 / 600 | loss: 0.1084\n",
      "epoch : 6 / 10 | step: 600 / 600 | loss: 0.0861\n",
      "epoch : 7 / 10 | step: 100 / 600 | loss: 0.0175\n",
      "epoch : 7 / 10 | step: 200 / 600 | loss: 0.0271\n",
      "epoch : 7 / 10 | step: 300 / 600 | loss: 0.0780\n",
      "epoch : 7 / 10 | step: 400 / 600 | loss: 0.0003\n",
      "epoch : 7 / 10 | step: 500 / 600 | loss: 0.0033\n",
      "epoch : 7 / 10 | step: 600 / 600 | loss: 0.0213\n",
      "epoch : 8 / 10 | step: 100 / 600 | loss: 0.0522\n",
      "epoch : 8 / 10 | step: 200 / 600 | loss: 0.1569\n",
      "epoch : 8 / 10 | step: 300 / 600 | loss: 0.0195\n",
      "epoch : 8 / 10 | step: 400 / 600 | loss: 0.0146\n",
      "epoch : 8 / 10 | step: 500 / 600 | loss: 0.1289\n",
      "epoch : 8 / 10 | step: 600 / 600 | loss: 0.1603\n",
      "epoch : 9 / 10 | step: 100 / 600 | loss: 0.0708\n",
      "epoch : 9 / 10 | step: 200 / 600 | loss: 0.2771\n",
      "epoch : 9 / 10 | step: 300 / 600 | loss: 0.0589\n",
      "epoch : 9 / 10 | step: 400 / 600 | loss: 0.0225\n",
      "epoch : 9 / 10 | step: 500 / 600 | loss: 0.0357\n",
      "epoch : 9 / 10 | step: 600 / 600 | loss: 0.0384\n",
      "epoch : 10 / 10 | step: 100 / 600 | loss: 0.1969\n",
      "epoch : 10 / 10 | step: 200 / 600 | loss: 0.0774\n",
      "epoch : 10 / 10 | step: 300 / 600 | loss: 0.0569\n",
      "epoch : 10 / 10 | step: 400 / 600 | loss: 0.1893\n",
      "epoch : 10 / 10 | step: 500 / 600 | loss: 0.0435\n",
      "epoch : 10 / 10 | step: 600 / 600 | loss: 0.0015\n"
     ]
    }
   ],
   "source": [
    "epochs = 10\n",
    "total_step = len(train_loader)\n",
    "\n",
    "for e in range(epochs):\n",
    "    for i, (images, labels) in enumerate(train_loader):\n",
    "        # train_loader에서 100개씩\n",
    "        # train_loader의 데이터는 image와 label의 형태로 되어 있음\n",
    "        \n",
    "        images = images.reshape(100,784).to(device) # 28 * 28 크기의 이미지를 784 크기로 변경\n",
    "        # image의 차원을 1차원으로 만들기 (784 크기로)\n",
    "        \n",
    "        labels = labels.to(device)\n",
    "        \n",
    "        optimizer.zero_grad() # model의 gradient 값을 0으로 저장\n",
    "        output = model(images) # 모델을 forward해서 결과 저장\n",
    "        \n",
    "        cost = loss(output, labels) # output과 label의 loss 계산\n",
    "        cost.backward() # backward 호출해서 gradient 계산\n",
    "        optimizer.step() # 모델의 학습 파라미터 갱신\n",
    "        \n",
    "        if((i + 1) % 100 == 0):\n",
    "            print('epoch : {} / {} | step: {} / {} | loss: {:.4f}'.format(e + 1, epochs, i + 1,total_step, cost.item()))\n",
    "    \n",
    "\n",
    "    "
   ]
  },
  {
   "cell_type": "markdown",
   "metadata": {},
   "source": [
    "#### Test the model\n",
    "\n",
    "#### 전체 10000개의 이미지를 가지고 test를 해본다.\n"
   ]
  },
  {
   "cell_type": "code",
   "execution_count": 15,
   "metadata": {},
   "outputs": [
    {
     "name": "stdout",
     "output_type": "stream",
     "text": [
      "Test: 10 | Accuracy: 96.2 \n",
      "Test: 20 | Accuracy: 96.1 \n",
      "Test: 30 | Accuracy: 96.76666666666667 \n",
      "Test: 40 | Accuracy: 96.9 \n",
      "Test: 50 | Accuracy: 96.92 \n",
      "Test: 60 | Accuracy: 97.0 \n",
      "Test: 70 | Accuracy: 96.92857142857143 \n",
      "Test: 80 | Accuracy: 96.9375 \n",
      "Test: 90 | Accuracy: 97.05555555555556 \n"
     ]
    },
    {
     "data": {
      "image/png": "[encoded data removed]",
      "text/plain": [
       "<Figure size 432x288 with 1 Axes>"
      ]
     },
     "metadata": {
      "needs_background": "light"
     },
     "output_type": "display_data"
    },
    {
     "name": "stdout",
     "output_type": "stream",
     "text": [
      "predict:  6\n",
      "original label:  6\n"
     ]
    },
    {
     "data": {
      "image/png": "[encoded data removed]",
      "text/plain": [
       "<Figure size 432x288 with 1 Axes>"
      ]
     },
     "metadata": {
      "needs_background": "light"
     },
     "output_type": "display_data"
    },
    {
     "name": "stdout",
     "output_type": "stream",
     "text": [
      "predict:  7\n",
      "original label:  7\n"
     ]
    },
    {
     "data": {
      "image/png": "[encoded data removed]",
      "text/plain": [
       "<Figure size 432x288 with 1 Axes>"
      ]
     },
     "metadata": {
      "needs_background": "light"
     },
     "output_type": "display_data"
    },
    {
     "name": "stdout",
     "output_type": "stream",
     "text": [
      "predict:  2\n",
      "original label:  2\n"
     ]
    },
    {
     "data": {
      "image/png": "[encoded data removed]",
      "text/plain": [
       "<Figure size 432x288 with 1 Axes>"
      ]
     },
     "metadata": {
      "needs_background": "light"
     },
     "output_type": "display_data"
    },
    {
     "name": "stdout",
     "output_type": "stream",
     "text": [
      "predict:  9\n",
      "original label:  9\n"
     ]
    },
    {
     "data": {
      "image/png": "[encoded data removed]",
      "text/plain": [
       "<Figure size 432x288 with 1 Axes>"
      ]
     },
     "metadata": {
      "needs_background": "light"
     },
     "output_type": "display_data"
    },
    {
     "name": "stdout",
     "output_type": "stream",
     "text": [
      "predict:  5\n",
      "original label:  5\n",
      "Test: 100 | Accuracy: 97.07 \n"
     ]
    }
   ],
   "source": [
    "model.eval() # evaluate mode로 전환\n",
    "with torch.no_grad(): # 미분을 하지 않겠다\n",
    "    correct = 0\n",
    "    total = 0\n",
    "    for i,(images, labels) in enumerate(test_loader):\n",
    "        image = images.reshape(100,784).to(device)\n",
    "        label = labels.to(device)\n",
    "        \n",
    "        output = model(image)\n",
    "        _, predict = torch.max(output.data, 1)\n",
    "        # 100행 10열로 되어있는데 각 행 에서 가장 큰 인덱스값이 label\n",
    "        \n",
    "        if (i >= 95 and i <= 100):\n",
    "            imshow(torchvision.utils.make_grid(images[i]))\n",
    "            print(\"predict: \", predict[i].item())\n",
    "            print(\"original label: \", label[i].item())\n",
    "\n",
    "            \n",
    "        total += label.size(0)\n",
    "        correct += (predict == label).sum().item() # predict와 원래 label이 일치하면 +\n",
    "       \n",
    "        if((i + 1)% 10 == 0):\n",
    "            print('Test: {} | Accuracy: {} '.format(i + 1, 100 * correct / total))        "
   ]
  },
  {
   "cell_type": "code",
   "execution_count": null,
   "metadata": {},
   "outputs": [],
   "source": []
  }
 ],
 "metadata": {
  "kernelspec": {
   "display_name": "Python 3",
   "language": "python",
   "name": "python3"
  },
  "language_info": {
   "codemirror_mode": {
    "name": "ipython",
    "version": 3
   },
   "file_extension": ".py",
   "mimetype": "text/x-python",
   "name": "python",
   "nbconvert_exporter": "python",
   "pygments_lexer": "ipython3",
   "version": "3.7.1"
  }
 },
 "nbformat": 4,
 "nbformat_minor": 5
}
